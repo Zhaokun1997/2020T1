{
 "cells": [
  {
   "cell_type": "code",
   "execution_count": null,
   "metadata": {},
   "outputs": [],
   "source": [
    "import pandas as pd\n",
    "import numpy as np\n",
    "\n",
    "\n",
    "df1 = pd.DataFrame({'a': [1, np.nan,5,np.nan],\n",
    "                'b': [np.nan,2,np.nan,6],\n",
    "                'c': range(2,18,4) })\n",
    "\n",
    "df2 = pd.DataFrame({'a': [5,4, np.nan,3,7],\n",
    "                'b': [np.nan,3,4,6,8] })"
   ]
  },
  {
   "cell_type": "code",
   "execution_count": null,
   "metadata": {},
   "outputs": [],
   "source": [
    "df1"
   ]
  },
  {
   "cell_type": "code",
   "execution_count": null,
   "metadata": {},
   "outputs": [],
   "source": [
    "df2"
   ]
  },
  {
   "cell_type": "code",
   "execution_count": null,
   "metadata": {},
   "outputs": [],
   "source": [
    "df2.combine_first(df1)"
   ]
  },
  {
   "cell_type": "code",
   "execution_count": null,
   "metadata": {},
   "outputs": [],
   "source": [
    "df1.combine_first(df2)"
   ]
  },
  {
   "cell_type": "code",
   "execution_count": null,
   "metadata": {},
   "outputs": [],
   "source": [
    "columns_to_drop = ['Edition Statement',\n",
    "                       'Corporate Author',\n",
    "                       'Corporate Contributors',\n",
    "                       'Former owner',\n",
    "                       'Engraver',\n",
    "                       'Contributors',\n",
    "                       'Issuance type',\n",
    "                       'Shelfmarks'\n",
    "                       ]\n",
    "csv_file = 'Books.csv'\n",
    "df = pd.read_csv(csv_file)\n",
    "\n",
    "# drop unneccessary columns\n",
    "df.drop(columns_to_drop, inplace=True, axis=1)\n",
    "\n",
    "# clean the date of publication & convert it to numeric data\n",
    "new_date = df['Date of Publication'].str.extract(r'^(\\d{4})', expand=False)\n",
    "new_date = pd.to_numeric(new_date)\n",
    "new_date = new_date.fillna(0)\n",
    "df['Date of Publication'] = new_date\n",
    "\n",
    "# replace spaces in the name of columns\n",
    "df.columns = [c.replace(' ', '_') for c in df.columns]\n",
    "\n",
    "# set the index column; this will help us to find books with their ids\n",
    "df.set_index('Identifier', inplace=True)"
   ]
  },
  {
   "cell_type": "code",
   "execution_count": null,
   "metadata": {},
   "outputs": [],
   "source": [
    "new_date"
   ]
  },
  {
   "cell_type": "code",
   "execution_count": null,
   "metadata": {},
   "outputs": [],
   "source": [
    "df.index"
   ]
  },
  {
   "cell_type": "code",
   "execution_count": null,
   "metadata": {},
   "outputs": [],
   "source": [
    "df.reset_index(inplace=True)"
   ]
  },
  {
   "cell_type": "code",
   "execution_count": null,
   "metadata": {},
   "outputs": [],
   "source": [
    "import requests\n",
    "\n",
    "resp = requests.get(\"http://api.worldbank.org/v2/countries/all/indicators/NY.GDP.MKTP.CD?date=2012:2017&format=json&per_page=1000\")"
   ]
  },
  {
   "cell_type": "code",
   "execution_count": null,
   "metadata": {},
   "outputs": [],
   "source": [
    "print(resp)"
   ]
  },
  {
   "cell_type": "code",
   "execution_count": null,
   "metadata": {},
   "outputs": [],
   "source": []
  }
 ],
 "metadata": {
  "kernelspec": {
   "display_name": "Python 3",
   "language": "python",
   "name": "python3"
  },
  "language_info": {
   "codemirror_mode": {
    "name": "ipython",
    "version": 3
   },
   "file_extension": ".py",
   "mimetype": "text/x-python",
   "name": "python",
   "nbconvert_exporter": "python",
   "pygments_lexer": "ipython3",
   "version": "3.7.4"
  }
 },
 "nbformat": 4,
 "nbformat_minor": 2
}
