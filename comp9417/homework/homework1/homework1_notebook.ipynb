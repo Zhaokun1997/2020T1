{
 "cells": [
  {
   "cell_type": "code",
   "execution_count": 12,
   "metadata": {},
   "outputs": [],
   "source": [
    "import pandas as pd\n",
    "import numpy as np\n",
    "from sklearn import datasets, linear_model\n",
    "from sklearn.model_selection import train_test_split\n",
    "import matplotlib.pyplot as plt\n",
    "import random\n",
    "import math"
   ]
  },
  {
   "cell_type": "code",
   "execution_count": 13,
   "metadata": {
    "scrolled": false
   },
   "outputs": [
    {
     "data": {
      "text/html": [
       "<div>\n",
       "<style scoped>\n",
       "    .dataframe tbody tr th:only-of-type {\n",
       "        vertical-align: middle;\n",
       "    }\n",
       "\n",
       "    .dataframe tbody tr th {\n",
       "        vertical-align: top;\n",
       "    }\n",
       "\n",
       "    .dataframe thead th {\n",
       "        text-align: right;\n",
       "    }\n",
       "</style>\n",
       "<table border=\"1\" class=\"dataframe\">\n",
       "  <thead>\n",
       "    <tr style=\"text-align: right;\">\n",
       "      <th></th>\n",
       "      <th>No</th>\n",
       "      <th>house age</th>\n",
       "      <th>distance to the nearest MRT station</th>\n",
       "      <th>number of convenience stores</th>\n",
       "      <th>house price of unit area</th>\n",
       "    </tr>\n",
       "  </thead>\n",
       "  <tbody>\n",
       "    <tr>\n",
       "      <td>0</td>\n",
       "      <td>1</td>\n",
       "      <td>6.6</td>\n",
       "      <td>90.45606</td>\n",
       "      <td>9</td>\n",
       "      <td>58.1</td>\n",
       "    </tr>\n",
       "    <tr>\n",
       "      <td>1</td>\n",
       "      <td>2</td>\n",
       "      <td>20.5</td>\n",
       "      <td>2185.12800</td>\n",
       "      <td>3</td>\n",
       "      <td>25.6</td>\n",
       "    </tr>\n",
       "    <tr>\n",
       "      <td>2</td>\n",
       "      <td>3</td>\n",
       "      <td>30.0</td>\n",
       "      <td>1013.34100</td>\n",
       "      <td>5</td>\n",
       "      <td>22.8</td>\n",
       "    </tr>\n",
       "    <tr>\n",
       "      <td>3</td>\n",
       "      <td>4</td>\n",
       "      <td>12.9</td>\n",
       "      <td>250.63100</td>\n",
       "      <td>7</td>\n",
       "      <td>39.3</td>\n",
       "    </tr>\n",
       "    <tr>\n",
       "      <td>4</td>\n",
       "      <td>5</td>\n",
       "      <td>29.4</td>\n",
       "      <td>4510.35900</td>\n",
       "      <td>1</td>\n",
       "      <td>13.2</td>\n",
       "    </tr>\n",
       "    <tr>\n",
       "      <td>...</td>\n",
       "      <td>...</td>\n",
       "      <td>...</td>\n",
       "      <td>...</td>\n",
       "      <td>...</td>\n",
       "      <td>...</td>\n",
       "    </tr>\n",
       "    <tr>\n",
       "      <td>395</td>\n",
       "      <td>396</td>\n",
       "      <td>40.9</td>\n",
       "      <td>167.59890</td>\n",
       "      <td>5</td>\n",
       "      <td>41.0</td>\n",
       "    </tr>\n",
       "    <tr>\n",
       "      <td>396</td>\n",
       "      <td>397</td>\n",
       "      <td>31.7</td>\n",
       "      <td>5512.03800</td>\n",
       "      <td>1</td>\n",
       "      <td>18.8</td>\n",
       "    </tr>\n",
       "    <tr>\n",
       "      <td>397</td>\n",
       "      <td>398</td>\n",
       "      <td>8.0</td>\n",
       "      <td>132.54690</td>\n",
       "      <td>9</td>\n",
       "      <td>47.3</td>\n",
       "    </tr>\n",
       "    <tr>\n",
       "      <td>398</td>\n",
       "      <td>399</td>\n",
       "      <td>11.9</td>\n",
       "      <td>3171.32900</td>\n",
       "      <td>0</td>\n",
       "      <td>46.6</td>\n",
       "    </tr>\n",
       "    <tr>\n",
       "      <td>399</td>\n",
       "      <td>400</td>\n",
       "      <td>3.4</td>\n",
       "      <td>56.47425</td>\n",
       "      <td>7</td>\n",
       "      <td>54.4</td>\n",
       "    </tr>\n",
       "  </tbody>\n",
       "</table>\n",
       "<p>400 rows × 5 columns</p>\n",
       "</div>"
      ],
      "text/plain": [
       "      No  house age  distance to the nearest MRT station  \\\n",
       "0      1        6.6                             90.45606   \n",
       "1      2       20.5                           2185.12800   \n",
       "2      3       30.0                           1013.34100   \n",
       "3      4       12.9                            250.63100   \n",
       "4      5       29.4                           4510.35900   \n",
       "..   ...        ...                                  ...   \n",
       "395  396       40.9                            167.59890   \n",
       "396  397       31.7                           5512.03800   \n",
       "397  398        8.0                            132.54690   \n",
       "398  399       11.9                           3171.32900   \n",
       "399  400        3.4                             56.47425   \n",
       "\n",
       "     number of convenience stores  house price of unit area  \n",
       "0                               9                      58.1  \n",
       "1                               3                      25.6  \n",
       "2                               5                      22.8  \n",
       "3                               7                      39.3  \n",
       "4                               1                      13.2  \n",
       "..                            ...                       ...  \n",
       "395                             5                      41.0  \n",
       "396                             1                      18.8  \n",
       "397                             9                      47.3  \n",
       "398                             0                      46.6  \n",
       "399                             7                      54.4  \n",
       "\n",
       "[400 rows x 5 columns]"
      ]
     },
     "execution_count": 13,
     "metadata": {},
     "output_type": "execute_result"
    }
   ],
   "source": [
    "# load data\n",
    "data_frame = pd.read_csv('house_prices.csv')\n",
    "feature_vectors = ['house age', 'distance to the nearest MRT station', 'number of convenience stores',\n",
    "                   'house price of unit area']\n",
    "data_frame"
   ]
  },
  {
   "cell_type": "code",
   "execution_count": 14,
   "metadata": {
    "scrolled": true
   },
   "outputs": [
    {
     "data": {
      "text/plain": [
       "['house age',\n",
       " 'distance to the nearest MRT station',\n",
       " 'number of convenience stores',\n",
       " 'house price of unit area']"
      ]
     },
     "execution_count": 14,
     "metadata": {},
     "output_type": "execute_result"
    }
   ],
   "source": [
    "feature_vectors"
   ]
  },
  {
   "cell_type": "markdown",
   "metadata": {},
   "source": [
    "after loading all data we need, go on the first step: pre-processing data\n",
    "\n",
    "step 1: pre-processing data"
   ]
  },
  {
   "cell_type": "code",
   "execution_count": 15,
   "metadata": {},
   "outputs": [],
   "source": [
    "# step 1: pre-processing data\n",
    "# 3 features\n",
    "data_house_age = data_frame[feature_vectors[0]]\n",
    "data_distance_to_station = data_frame[feature_vectors[1]]\n",
    "data_nb_of_stores = data_frame[feature_vectors[2]]\n",
    "\n",
    "# 1 output\n",
    "data_house_price = data_frame[feature_vectors[-1]]\n",
    "\n",
    "# get normalized data\n",
    "max_house_age = max(list(data_house_age))\n",
    "min_house_age = min(list(data_house_age))\n",
    "new_house_age = [((x - min_house_age) / (max_house_age - min_house_age))\n",
    "                 for x in list(data_house_age)]\n",
    "\n",
    "max_distance_to_station = max(list(data_distance_to_station))\n",
    "min_distance_to_station = min(list(data_distance_to_station))\n",
    "new_distance_to_station = [((x - min_distance_to_station) / (max_distance_to_station - min_distance_to_station))\n",
    "                           for x in list(data_distance_to_station)]\n",
    "\n",
    "max_nb_of_stores = max(list(data_nb_of_stores))\n",
    "min_nb_of_stores = min(list(data_nb_of_stores))\n",
    "new_nb_of_stores = [((x - min_nb_of_stores) / (max_nb_of_stores - min_nb_of_stores))\n",
    "                    for x in list(data_nb_of_stores)]"
   ]
  },
  {
   "cell_type": "markdown",
   "metadata": {},
   "source": [
    "step 2: Creating test and training set"
   ]
  },
  {
   "cell_type": "code",
   "execution_count": 16,
   "metadata": {},
   "outputs": [],
   "source": [
    "# step 2: Creating test and training set\n",
    "# total data y\n",
    "data_house_price_y = np.array(data_house_price).reshape(-1, 1)\n",
    "# total data x for three features\n",
    "data_house_age_x = np.array(new_house_age).reshape(-1, 1)\n",
    "data_distance_to_station_x = np.array(new_distance_to_station).reshape(-1, 1)\n",
    "data_nb_of_stores_x = np.array(new_nb_of_stores).reshape(-1, 1)\n",
    "# split data to training data and test data\n",
    "# shuffle == false <==> not random\n",
    "train_data_house_age_x, test_data_house_age_x, train_data_house_price_y, test_data_house_price_y = \\\n",
    "    train_test_split(data_house_age_x, data_house_price_y, test_size=0.25, shuffle=False)\n",
    "\n"
   ]
  },
  {
   "cell_type": "markdown",
   "metadata": {},
   "source": [
    "In order to compare with different features seperately, we create a function handling with step 3--step 5:\n",
    "\n",
    "fuction:\n",
    "\n",
    "Stochastic_gradient_decent\n",
    "\n",
    "this function return: \n",
    "\n",
    "1.theta[] after training\n",
    "\n",
    "2.RMSE value we calculated"
   ]
  },
  {
   "cell_type": "markdown",
   "metadata": {},
   "source": [
    "step 3 & 4 & 5: Stochastic gradient descent & Visualization & Evaluation"
   ]
  },
  {
   "cell_type": "code",
   "execution_count": 17,
   "metadata": {},
   "outputs": [],
   "source": [
    "# step 3 & 4 & 5: Stochastic gradient descent & Visualization & Evaluation\n",
    "def Stochastic_gradient_decent(train_data_feature_x, test_data_feature_x,\n",
    "                               train_data_output_y, test_data_output_y):\n",
    "    # step 3: Stochastic gradient descent\n",
    "    loss_record = []  # record loss function value\n",
    "    iter_record = []  # record iteration value\n",
    "    training_len = len(train_data_feature_x)\n",
    "    testing_len = len(test_data_feature_x)\n",
    "    max_iteration = 50\n",
    "    alpha = 0.01  # learning rate\n",
    "    theta = [-1, -0.5]  # 𝜃 coefficients\n",
    "    iter_count = 0\n",
    "\n",
    "    # for every iteration\n",
    "    while iter_count < max_iteration:\n",
    "        loss = 0\n",
    "        # algorithmn body\n",
    "        for i in range(training_len):\n",
    "            predicted_fuc = theta[0] * 1 + theta[1] * train_data_feature_x[i][0]\n",
    "            theta[0] = theta[0] + alpha * (train_data_output_y[i][0] - predicted_fuc) * 1\n",
    "            theta[1] = theta[1] + alpha * (train_data_output_y[i][0] - predicted_fuc) * train_data_feature_x[i][0]\n",
    "        # calculate J(theta) cost fuction\n",
    "        for j in range(training_len):\n",
    "            predicted_fuc = theta[0] * 1 + theta[1] * train_data_feature_x[j][0]\n",
    "            error = (train_data_output_y[j][0] - predicted_fuc) ** 2\n",
    "            loss = loss + error\n",
    "        loss = (1 / training_len) * loss\n",
    "        iter_count += 1\n",
    "        loss_record.append(loss)\n",
    "        iter_record.append(iter_count)\n",
    "\n",
    "    # step 4: Visualization\n",
    "    iter_x = np.array(iter_record).reshape(-1, 1)\n",
    "    loss_y = np.array(loss_record).reshape(-1, 1)\n",
    "    # model = linear_model.LinearRegression()\n",
    "    # model.fit(iter_x, loss_y)\n",
    "    # predicted_y = model.predict(iter_x)\n",
    "    plt.scatter(iter_x, loss_y, color=\"red\")\n",
    "    plt.show()\n",
    "\n",
    "    # step 5: Evaluation\n",
    "    # compute RMSE for training set\n",
    "    total_sum_training_set = 0\n",
    "    for i in range(training_len):\n",
    "        predicted_fuc = theta[0] * 1 + theta[1] * train_data_feature_x[i][0]\n",
    "        temp_sum = (train_data_output_y[i][0] - predicted_fuc) ** 2\n",
    "        total_sum_training_set += temp_sum\n",
    "    RMSE_training = math.sqrt(total_sum_training_set / training_len)\n",
    "\n",
    "    # compute RMSE for training set\n",
    "    total_sum_testing_set = 0\n",
    "    for i in range(testing_len):\n",
    "        predicted_fuc = theta[0] * 1 + theta[1] * test_data_feature_x[i][0]\n",
    "        temp_sum = (test_data_output_y[i][0] - predicted_fuc) ** 2\n",
    "        total_sum_testing_set += temp_sum\n",
    "    RMSE_testing = math.sqrt(total_sum_testing_set / testing_len)\n",
    "\n",
    "    return theta, RMSE_training, RMSE_testing"
   ]
  },
  {
   "cell_type": "markdown",
   "metadata": {},
   "source": [
    "for the first feature: house_age\n",
    "\n",
    "we get the theta[0] and theta[1],\n",
    "and also, RMSE for both training data set and testing data set;"
   ]
  },
  {
   "cell_type": "code",
   "execution_count": 18,
   "metadata": {},
   "outputs": [
    {
     "data": {
      "image/png": "[encoded data removed]",
      "text/plain": [
       "<Figure size 432x288 with 1 Axes>"
      ]
     },
     "metadata": {
      "needs_background": "light"
     },
     "output_type": "display_data"
    },
    {
     "name": "stdout",
     "output_type": "stream",
     "text": [
      "RMSE for house age training data set is :  12.045510305912353\n",
      "RMSE for house age testing data set is :  16.58731450340051\n",
      "theta for house age is :  theta[0] :  42.54078538346594 theta[1] :  -10.319399022339129\n",
      "\n"
     ]
    }
   ],
   "source": [
    " # step 3 & 4 & 5: Stochastic gradient descent & Visualization & Evaluation\n",
    "feature = feature_vectors[0]\n",
    "theta_house_age_model, RMSE_training_house_age, RMSE_testing_house_age = \\\n",
    "    Stochastic_gradient_decent(train_data_house_age_x, test_data_house_age_x,\n",
    "                               train_data_house_price_y, test_data_house_price_y)\n",
    "print(\"RMSE for\", feature, \"training data set is : \", RMSE_training_house_age)\n",
    "print(\"RMSE for\", feature, \"testing data set is : \", RMSE_testing_house_age)\n",
    "print(\"theta for\", feature, \"is : \", \"theta[0] : \", theta_house_age_model[0], \"theta[1] : \",\n",
    "      theta_house_age_model[1])\n",
    "print()\n"
   ]
  },
  {
   "cell_type": "markdown",
   "metadata": {},
   "source": [
    "Then, we compute the other two features:\n",
    "\n",
    "which are 'distance to the nearest MRT station' and 'number of convenience stores';\n",
    "\n",
    "and compute corresponding theta[] and RMSE value;\n"
   ]
  },
  {
   "cell_type": "code",
   "execution_count": 19,
   "metadata": {},
   "outputs": [
    {
     "data": {
      "image/png": "[encoded data removed]",
      "text/plain": [
       "<Figure size 432x288 with 1 Axes>"
      ]
     },
     "metadata": {
      "needs_background": "light"
     },
     "output_type": "display_data"
    },
    {
     "name": "stdout",
     "output_type": "stream",
     "text": [
      "RMSE for distance to the nearest MRT station training data set is :  9.165754538401488\n",
      "RMSE for distance to the nearest MRT station testing data set is :  12.652088009723935\n",
      "theta for distance to the nearest MRT station is :  theta[0] :  44.766087037899375 theta[1] :  -46.500633970906314\n",
      "\n"
     ]
    },
    {
     "data": {
      "image/png": "[encoded data removed]",
      "text/plain": [
       "<Figure size 432x288 with 1 Axes>"
      ]
     },
     "metadata": {
      "needs_background": "light"
     },
     "output_type": "display_data"
    },
    {
     "name": "stdout",
     "output_type": "stream",
     "text": [
      "RMSE for number of convenience stores training data set is :  9.83487827563954\n",
      "RMSE for number of convenience stores testing data set is :  14.731993508206784\n",
      "theta for number of convenience stores is :  theta[0] :  27.486676129636784 theta[1] :  25.642117651334722\n",
      "\n"
     ]
    }
   ],
   "source": [
    "# step 6: Repeating for the other two features\n",
    "# for feature distance\n",
    "feature = feature_vectors[1]\n",
    "train_data_distance_x, test_data_distance_x, train_data_house_price_y, test_data_house_price_y = \\\n",
    "    train_test_split(data_distance_to_station_x, data_house_price_y, test_size=0.25, shuffle=False)\n",
    "theta_distance_model, RMSE_training_distance, RMSE_testing_distance = \\\n",
    "    Stochastic_gradient_decent(train_data_distance_x, test_data_distance_x,\n",
    "                               train_data_house_price_y, test_data_house_price_y)\n",
    "print(\"RMSE for\", feature, \"training data set is : \", RMSE_training_distance)\n",
    "print(\"RMSE for\", feature, \"testing data set is : \", RMSE_testing_distance)\n",
    "print(\"theta for\", feature, \"is : \", \"theta[0] : \", theta_distance_model[0], \"theta[1] : \",\n",
    "      theta_distance_model[1])\n",
    "print()\n",
    "\n",
    " # for feature number of stores\n",
    "feature = feature_vectors[2]\n",
    "train_data_nb_store_x, test_data_nb_store_x, train_data_house_price_y, test_data_house_price_y = \\\n",
    "    train_test_split(data_nb_of_stores_x, data_house_price_y, test_size=0.25, shuffle=False)\n",
    "theta_nb_store_model, RMSE_training_nb_store, RMSE_testing_nb_store = \\\n",
    "    Stochastic_gradient_decent(train_data_nb_store_x, test_data_nb_store_x,\n",
    "                               train_data_house_price_y, test_data_house_price_y)\n",
    "print(\"RMSE for\", feature, \"training data set is : \", RMSE_training_nb_store)\n",
    "print(\"RMSE for\", feature, \"testing data set is : \", RMSE_testing_nb_store)\n",
    "print(\"theta for\", feature, \"is : \", \"theta[0] : \", theta_nb_store_model[0], \"theta[1] : \",\n",
    "      theta_nb_store_model[1])\n",
    "print()"
   ]
  },
  {
   "cell_type": "code",
   "execution_count": 17,
   "metadata": {},
   "outputs": [
    {
     "name": "stdout",
     "output_type": "stream",
     "text": [
      "[('distance to the nearest MRT station', 9.165754538401488), ('number of convenience stores', 9.165754538401488), ('house age', 12.045510305912353)]\n",
      "[('distance to the nearest MRT station', 12.652088009723935), ('number of convenience stores', 12.652088009723935), ('house age', 16.58731450340051)]\n"
     ]
    }
   ],
   "source": [
    "# step 7: bonus compare\n",
    "RMSE_training_dict = {feature_vectors[0]: RMSE_training_house_age,\n",
    "                     feature_vectors[1]: RMSE_training_distance,\n",
    "                     feature_vectors[2]: RMSE_training_nb_store, }\n",
    "RMSE_testing_dict = {feature_vectors[0]: RMSE_testing_house_age,\n",
    "                     feature_vectors[1]: RMSE_testing_distance,\n",
    "                     feature_vectors[2]: RMSE_testing_nb_store, }\n",
    "result_train = sorted(RMSE_training_dict.items(), key=lambda item: item[1])\n",
    "result_test = sorted(RMSE_testing_dict.items(), key=lambda item: item[1])\n",
    "print(result_train)\n",
    "print(result_test)"
   ]
  },
  {
   "cell_type": "markdown",
   "metadata": {},
   "source": [
    "As we can see, this time we get all this three RMSE for our data sets;\n",
    "\n",
    "this respectively is:\n",
    "\n",
    "RMSE for house age training data set is :  25.230370617579414\n",
    "\n",
    "RMSE for house age testing data set is :  29.062757171534063\n",
    "\n",
    "RMSE for distance to the nearest MRT station training data set is :  26.437983293073824\n",
    "\n",
    "RMSE for distance to the nearest MRT station testing data set is :  30.0561440633274\n",
    "\n",
    "RMSE for number of convenience stores training data set is :  25.87887184864255\n",
    "\n",
    "RMSE for number of convenience stores testing data set is :  29.536341013282314\n",
    "\n",
    "and clearly:\n",
    "\n",
    "25.230 < 25.878 < 26.437\n",
    "\n",
    "29.062 < 29.536 < 30.056\n",
    "\n",
    "after this time training, we can rank all three models according to RMSE:\n",
    "\n",
    "the performance of model_1 > model_3 > model_2;\n",
    "\n",
    "As we use Stochastic gradient descent algorithmn for this report, the results are random. the data above is generated by some training process.\n",
    "\n",
    "So finally, we give code for comparation as following:"
   ]
  },
  {
   "cell_type": "code",
   "execution_count": null,
   "metadata": {},
   "outputs": [],
   "source": []
  }
 ],
 "metadata": {
  "kernelspec": {
   "display_name": "Python 3",
   "language": "python",
   "name": "python3"
  },
  "language_info": {
   "codemirror_mode": {
    "name": "ipython",
    "version": 3
   },
   "file_extension": ".py",
   "mimetype": "text/x-python",
   "name": "python",
   "nbconvert_exporter": "python",
   "pygments_lexer": "ipython3",
   "version": "3.7.4"
  }
 },
 "nbformat": 4,
 "nbformat_minor": 2
}
